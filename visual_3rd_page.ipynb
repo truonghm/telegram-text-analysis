{
 "cells": [
  {
   "cell_type": "code",
   "execution_count": 3,
   "metadata": {
    "ExecuteTime": {
     "end_time": "2020-10-30T16:07:25.318001Z",
     "start_time": "2020-10-30T16:07:24.544197Z"
    }
   },
   "outputs": [],
   "source": [
    "%reset -f\n",
    "import pandas as pd\n",
    "import datetime as dt\n",
    "import altair as alt\n",
    "\n",
    "ldr_date = dt.date(2018, 9, 16)\n",
    "2\n",
    "# Altair testing\n",
    "text_url = 'text_df.csv'\n",
    "\n",
    "# cols = ['type','date','from','from_id','media_type','action',\n",
    "#         'datetime', 'datetime_vn_lc','hour','text2','word_count','weekday_id',\n",
    "#         'weekday','isLDR','daypart','datetime_eu','datetime_eu_lc','hour_eu',\n",
    "#         'daypart_eu','isNight','datetime_next','buffer',\n",
    "#         'sticker_local_path','sticker_url','sticker_html','date_int','month_int','year_int']"
   ]
  },
  {
   "source": [
    "# Third Page: Drill down to months/weekdays/hours"
   ],
   "cell_type": "markdown",
   "metadata": {}
  },
  {
   "cell_type": "code",
   "execution_count": 7,
   "metadata": {
    "ExecuteTime": {
     "end_time": "2020-10-30T16:07:41.702263Z",
     "start_time": "2020-10-30T16:07:41.655346Z"
    },
    "scrolled": false
   },
   "outputs": [
    {
     "output_type": "execute_result",
     "data": {
      "text/html": "\n<div id=\"altair-viz-9099e84381fb480082bb30c7f16c6096\"></div>\n<script type=\"text/javascript\">\n  (function(spec, embedOpt){\n    let outputDiv = document.currentScript.previousElementSibling;\n    if (outputDiv.id !== \"altair-viz-9099e84381fb480082bb30c7f16c6096\") {\n      outputDiv = document.getElementById(\"altair-viz-9099e84381fb480082bb30c7f16c6096\");\n    }\n    const paths = {\n      \"vega\": \"https://cdn.jsdelivr.net/npm//vega@5?noext\",\n      \"vega-lib\": \"https://cdn.jsdelivr.net/npm//vega-lib?noext\",\n      \"vega-lite\": \"https://cdn.jsdelivr.net/npm//vega-lite@4.8.1?noext\",\n      \"vega-embed\": \"https://cdn.jsdelivr.net/npm//vega-embed@6?noext\",\n    };\n\n    function loadScript(lib) {\n      return new Promise(function(resolve, reject) {\n        var s = document.createElement('script');\n        s.src = paths[lib];\n        s.async = true;\n        s.onload = () => resolve(paths[lib]);\n        s.onerror = () => reject(`Error loading script: ${paths[lib]}`);\n        document.getElementsByTagName(\"head\")[0].appendChild(s);\n      });\n    }\n\n    function showError(err) {\n      outputDiv.innerHTML = `<div class=\"error\" style=\"color:red;\">${err}</div>`;\n      throw err;\n    }\n\n    function displayChart(vegaEmbed) {\n      vegaEmbed(outputDiv, spec, embedOpt)\n        .catch(err => showError(`Javascript Error: ${err.message}<br>This usually means there's a typo in your chart specification. See the javascript console for the full traceback.`));\n    }\n\n    if(typeof define === \"function\" && define.amd) {\n      requirejs.config({paths});\n      require([\"vega-embed\"], displayChart, err => showError(`Error loading script: ${err.message}`));\n    } else if (typeof vegaEmbed === \"function\") {\n      displayChart(vegaEmbed);\n    } else {\n      loadScript(\"vega\")\n        .then(() => loadScript(\"vega-lite\"))\n        .then(() => loadScript(\"vega-embed\"))\n        .catch(showError)\n        .then(() => displayChart(vegaEmbed));\n    }\n  })({\"config\": {\"view\": {\"continuousWidth\": 400, \"continuousHeight\": 300}}, \"data\": {\"url\": \"text_df.csv\"}, \"facet\": {\"row\": {\"type\": \"nominal\", \"field\": \"isLDR\"}}, \"spec\": {\"mark\": \"circle\", \"encoding\": {\"color\": {\"type\": \"nominal\", \"field\": \"isLDR\", \"legend\": null}, \"size\": {\"type\": \"quantitative\", \"aggregate\": \"count\", \"legend\": {\"direction\": \"vertical\"}}, \"tooltip\": [{\"type\": \"quantitative\", \"aggregate\": \"average\", \"field\": \"word_count\"}, {\"type\": \"quantitative\", \"aggregate\": \"count\", \"field\": \"text2\"}], \"x\": {\"type\": \"ordinal\", \"field\": \"datetime\", \"timeUnit\": \"hours\"}, \"y\": {\"type\": \"ordinal\", \"field\": \"datetime\", \"timeUnit\": \"day\"}}}, \"$schema\": \"https://vega.github.io/schema/vega-lite/v4.8.1.json\"}, {\"mode\": \"vega-lite\"});\n</script>",
      "text/plain": [
       "alt.FacetChart(...)"
      ]
     },
     "metadata": {},
     "execution_count": 7
    }
   ],
   "source": [
    "alt.Chart(text_url).mark_circle().encode(\n",
    "    x='hours(datetime):O',\n",
    "    y='day(datetime):O',\n",
    "    size=alt.Size('count():Q', legend=alt.Legend(direction=\"vertical\")),\n",
    "    tooltip=['average(word_count):Q','count(text2):Q'],\n",
    "    color=alt.Color('isLDR:N', legend=None)\n",
    ").facet(\n",
    "    row='isLDR:N'\n",
    ")"
   ]
  },
  {
   "cell_type": "code",
   "execution_count": 8,
   "metadata": {
    "ExecuteTime": {
     "end_time": "2020-10-30T16:04:21.109291Z",
     "start_time": "2020-10-30T16:04:21.048056Z"
    }
   },
   "outputs": [
    {
     "output_type": "execute_result",
     "data": {
      "text/html": "\n<div id=\"altair-viz-184d8021cea14b18bb541cc4f1d87284\"></div>\n<script type=\"text/javascript\">\n  (function(spec, embedOpt){\n    let outputDiv = document.currentScript.previousElementSibling;\n    if (outputDiv.id !== \"altair-viz-184d8021cea14b18bb541cc4f1d87284\") {\n      outputDiv = document.getElementById(\"altair-viz-184d8021cea14b18bb541cc4f1d87284\");\n    }\n    const paths = {\n      \"vega\": \"https://cdn.jsdelivr.net/npm//vega@5?noext\",\n      \"vega-lib\": \"https://cdn.jsdelivr.net/npm//vega-lib?noext\",\n      \"vega-lite\": \"https://cdn.jsdelivr.net/npm//vega-lite@4.8.1?noext\",\n      \"vega-embed\": \"https://cdn.jsdelivr.net/npm//vega-embed@6?noext\",\n    };\n\n    function loadScript(lib) {\n      return new Promise(function(resolve, reject) {\n        var s = document.createElement('script');\n        s.src = paths[lib];\n        s.async = true;\n        s.onload = () => resolve(paths[lib]);\n        s.onerror = () => reject(`Error loading script: ${paths[lib]}`);\n        document.getElementsByTagName(\"head\")[0].appendChild(s);\n      });\n    }\n\n    function showError(err) {\n      outputDiv.innerHTML = `<div class=\"error\" style=\"color:red;\">${err}</div>`;\n      throw err;\n    }\n\n    function displayChart(vegaEmbed) {\n      vegaEmbed(outputDiv, spec, embedOpt)\n        .catch(err => showError(`Javascript Error: ${err.message}<br>This usually means there's a typo in your chart specification. See the javascript console for the full traceback.`));\n    }\n\n    if(typeof define === \"function\" && define.amd) {\n      requirejs.config({paths});\n      require([\"vega-embed\"], displayChart, err => showError(`Error loading script: ${err.message}`));\n    } else if (typeof vegaEmbed === \"function\") {\n      displayChart(vegaEmbed);\n    } else {\n      loadScript(\"vega\")\n        .then(() => loadScript(\"vega-lite\"))\n        .then(() => loadScript(\"vega-embed\"))\n        .catch(showError)\n        .then(() => displayChart(vegaEmbed));\n    }\n  })({\"config\": {\"view\": {\"continuousWidth\": 400, \"continuousHeight\": 300}}, \"data\": {\"url\": \"text_df.csv\"}, \"mark\": \"bar\", \"encoding\": {\"x\": {\"type\": \"ordinal\", \"field\": \"datetime\", \"timeUnit\": \"day\"}, \"y\": {\"type\": \"quantitative\", \"aggregate\": \"average\", \"field\": \"word_count\"}}, \"width\": 600, \"$schema\": \"https://vega.github.io/schema/vega-lite/v4.8.1.json\"}, {\"mode\": \"vega-lite\"});\n</script>",
      "text/plain": [
       "alt.Chart(...)"
      ]
     },
     "metadata": {},
     "execution_count": 8
    }
   ],
   "source": [
    "# bar = alt.Chart(text_url).mark_bar(opacity=0.7).encode(\n",
    "#     x='day(datetime):O',\n",
    "#     y=alt.Y('average(word_count):Q')\n",
    "#     ).facet(\n",
    "#     row='isLDR:N'\n",
    "# ).properties(width=600)\n",
    "\n",
    "# line = alt.Chart(text_url).mark_line().encode(\n",
    "#     x='day(datetime):O',\n",
    "#     y='count():Q'\n",
    "#     ).facet(\n",
    "#     row='isLDR:N'\n",
    "# ).properties(width=600)\n",
    "\n",
    "alt.Chart(text_url).mark_bar().encode(\n",
    "    x='day(datetime):O',\n",
    "    y=alt.Y('average(word_count):Q')\n",
    "    ).properties(width=600)"
   ]
  },
  {
   "cell_type": "code",
   "execution_count": 9,
   "metadata": {
    "ExecuteTime": {
     "end_time": "2020-10-30T15:41:02.156701Z",
     "start_time": "2020-10-30T15:41:02.118933Z"
    }
   },
   "outputs": [
    {
     "output_type": "execute_result",
     "data": {
      "text/html": "\n<div id=\"altair-viz-4074bcdb545b4144addaf7a991c1e4da\"></div>\n<script type=\"text/javascript\">\n  (function(spec, embedOpt){\n    let outputDiv = document.currentScript.previousElementSibling;\n    if (outputDiv.id !== \"altair-viz-4074bcdb545b4144addaf7a991c1e4da\") {\n      outputDiv = document.getElementById(\"altair-viz-4074bcdb545b4144addaf7a991c1e4da\");\n    }\n    const paths = {\n      \"vega\": \"https://cdn.jsdelivr.net/npm//vega@5?noext\",\n      \"vega-lib\": \"https://cdn.jsdelivr.net/npm//vega-lib?noext\",\n      \"vega-lite\": \"https://cdn.jsdelivr.net/npm//vega-lite@4.8.1?noext\",\n      \"vega-embed\": \"https://cdn.jsdelivr.net/npm//vega-embed@6?noext\",\n    };\n\n    function loadScript(lib) {\n      return new Promise(function(resolve, reject) {\n        var s = document.createElement('script');\n        s.src = paths[lib];\n        s.async = true;\n        s.onload = () => resolve(paths[lib]);\n        s.onerror = () => reject(`Error loading script: ${paths[lib]}`);\n        document.getElementsByTagName(\"head\")[0].appendChild(s);\n      });\n    }\n\n    function showError(err) {\n      outputDiv.innerHTML = `<div class=\"error\" style=\"color:red;\">${err}</div>`;\n      throw err;\n    }\n\n    function displayChart(vegaEmbed) {\n      vegaEmbed(outputDiv, spec, embedOpt)\n        .catch(err => showError(`Javascript Error: ${err.message}<br>This usually means there's a typo in your chart specification. See the javascript console for the full traceback.`));\n    }\n\n    if(typeof define === \"function\" && define.amd) {\n      requirejs.config({paths});\n      require([\"vega-embed\"], displayChart, err => showError(`Error loading script: ${err.message}`));\n    } else if (typeof vegaEmbed === \"function\") {\n      displayChart(vegaEmbed);\n    } else {\n      loadScript(\"vega\")\n        .then(() => loadScript(\"vega-lite\"))\n        .then(() => loadScript(\"vega-embed\"))\n        .catch(showError)\n        .then(() => displayChart(vegaEmbed));\n    }\n  })({\"config\": {\"view\": {\"continuousWidth\": 400, \"continuousHeight\": 300}}, \"data\": {\"url\": \"text_df.csv\"}, \"facet\": {\"column\": {\"type\": \"nominal\", \"field\": \"datetime\", \"timeUnit\": \"year\"}}, \"spec\": {\"mark\": \"bar\", \"encoding\": {\"color\": {\"type\": \"nominal\", \"field\": \"daypart\"}, \"x\": {\"type\": \"nominal\", \"field\": \"datetime\", \"timeUnit\": \"month\"}, \"y\": {\"type\": \"quantitative\", \"aggregate\": \"average\", \"field\": \"buffer\"}}}, \"$schema\": \"https://vega.github.io/schema/vega-lite/v4.8.1.json\"}, {\"mode\": \"vega-lite\"});\n</script>",
      "text/plain": [
       "alt.FacetChart(...)"
      ]
     },
     "metadata": {},
     "execution_count": 9
    }
   ],
   "source": [
    "alt.Chart(text_url).mark_bar().encode(\n",
    "    x='month(datetime):N',\n",
    "    y='average(buffer):Q',\n",
    "    color='daypart:N',\n",
    ").facet(column='year(datetime):N')"
   ]
  }
 ],
 "metadata": {
  "kernelspec": {
   "name": "Python 3.8.5 64-bit ('text-analysis': conda)",
   "display_name": "Python 3.8.5 64-bit ('text-analysis': conda)",
   "metadata": {
    "interpreter": {
     "hash": "a0966dfbb8a7a5b39309b4ec8b2a003eb9bec16234a4828594124cf4c5348425"
    }
   }
  },
  "language_info": {
   "codemirror_mode": {
    "name": "ipython",
    "version": 3
   },
   "file_extension": ".py",
   "mimetype": "text/x-python",
   "name": "python",
   "nbconvert_exporter": "python",
   "pygments_lexer": "ipython3",
   "version": "3.8.5-final"
  },
  "varInspector": {
   "cols": {
    "lenName": 16,
    "lenType": 16,
    "lenVar": 40
   },
   "kernels_config": {
    "python": {
     "delete_cmd_postfix": "",
     "delete_cmd_prefix": "del ",
     "library": "var_list.py",
     "varRefreshCmd": "print(var_dic_list())"
    },
    "r": {
     "delete_cmd_postfix": ") ",
     "delete_cmd_prefix": "rm(",
     "library": "var_list.r",
     "varRefreshCmd": "cat(var_dic_list()) "
    }
   },
   "types_to_exclude": [
    "module",
    "function",
    "builtin_function_or_method",
    "instance",
    "_Feature"
   ],
   "window_display": false
  }
 },
 "nbformat": 4,
 "nbformat_minor": 2
}