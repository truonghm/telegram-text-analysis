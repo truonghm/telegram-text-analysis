{
 "cells": [
  {
   "cell_type": "code",
   "execution_count": null,
   "metadata": {
    "ExecuteTime": {
     "end_time": "2020-10-30T16:07:25.318001Z",
     "start_time": "2020-10-30T16:07:24.544197Z"
    }
   },
   "outputs": [],
   "source": [
    "%reset -f\n",
    "import altair as alt\n",
    "\n",
    "# Altair testing\n",
    "text_url = 'text_df.csv'\n",
    "\n",
    "# cols = ['type','date','from','from_id','media_type','action',\n",
    "#         'datetime', 'datetime_vn_lc','hour','text2','word_count','weekday_id',\n",
    "#         'weekday','isLDR','daypart','datetime_eu','datetime_eu_lc','hour_eu',\n",
    "#         'daypart_eu','isNight','datetime_next','buffer',\n",
    "#         'sticker_local_path','sticker_url','sticker_html','date_int','month_int','year_int']"
   ]
  },
  {
   "source": [
    "# Fourth Page: Buffer between messages"
   ],
   "cell_type": "markdown",
   "metadata": {}
  },
  {
   "cell_type": "code",
   "execution_count": null,
   "metadata": {
    "ExecuteTime": {
     "end_time": "2020-10-30T15:41:02.156701Z",
     "start_time": "2020-10-30T15:41:02.118933Z"
    }
   },
   "outputs": [],
   "source": [
    "alt.Chart(text_url).mark_bar().encode(\n",
    "    x='month(datetime):N',\n",
    "    y='average(buffer):Q',\n",
    "    color='daypart:N',\n",
    ").facet(column='year(datetime):N')"
   ]
  },
  {
   "cell_type": "code",
   "execution_count": null,
   "metadata": {},
   "outputs": [],
   "source": [
    "bars = alt.Chart(\n",
    "    text_url,\n",
    ").mark_bar().encode(\n",
    "    y=alt.Y('date_int:N'),\n",
    "    x=alt.X('buffer:Q'),\n",
    "    color=alt.Color('buffer:Q'),\n",
    "    tooltip=['text:T']\n",
    ").transform_filter(\n",
    "    (alt.datum.buffer > 0.7)\n",
    ")\n",
    "\n",
    "text = alt.Chart(text_url).mark_text(dx=-50, dy=1, color='white').encode(\n",
    "    y=alt.Y('date_int:N'),\n",
    "    x=alt.X('buffer:Q'),\n",
    "    text=alt.Text('datetime:T')\n",
    ").transform_filter(\n",
    "    (alt.datum.buffer > 0.7)\n",
    ")\n",
    "\n",
    "bars + text"
   ]
  }
 ],
 "metadata": {
  "kernelspec": {
   "name": "Python 3.8.5 64-bit ('text-analysis': conda)",
   "display_name": "Python 3.8.5 64-bit ('text-analysis': conda)",
   "metadata": {
    "interpreter": {
     "hash": "a0966dfbb8a7a5b39309b4ec8b2a003eb9bec16234a4828594124cf4c5348425"
    }
   }
  },
  "language_info": {
   "codemirror_mode": {
    "name": "ipython",
    "version": 3
   },
   "file_extension": ".py",
   "mimetype": "text/x-python",
   "name": "python",
   "nbconvert_exporter": "python",
   "pygments_lexer": "ipython3",
   "version": "3.8.5-final"
  },
  "varInspector": {
   "cols": {
    "lenName": 16,
    "lenType": 16,
    "lenVar": 40
   },
   "kernels_config": {
    "python": {
     "delete_cmd_postfix": "",
     "delete_cmd_prefix": "del ",
     "library": "var_list.py",
     "varRefreshCmd": "print(var_dic_list())"
    },
    "r": {
     "delete_cmd_postfix": ") ",
     "delete_cmd_prefix": "rm(",
     "library": "var_list.r",
     "varRefreshCmd": "cat(var_dic_list()) "
    }
   },
   "types_to_exclude": [
    "module",
    "function",
    "builtin_function_or_method",
    "instance",
    "_Feature"
   ],
   "window_display": false
  }
 },
 "nbformat": 4,
 "nbformat_minor": 2
}