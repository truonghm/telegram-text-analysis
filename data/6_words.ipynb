{
 "metadata": {
  "language_info": {
   "codemirror_mode": {
    "name": "ipython",
    "version": 3
   },
   "file_extension": ".py",
   "mimetype": "text/x-python",
   "name": "python",
   "nbconvert_exporter": "python",
   "pygments_lexer": "ipython3",
   "version": 3
  },
  "orig_nbformat": 2
 },
 "nbformat": 4,
 "nbformat_minor": 2,
 "cells": [
  {
   "cell_type": "code",
   "execution_count": null,
   "metadata": {},
   "outputs": [],
   "source": [
    "%reset -f\n",
    "import altair as alt\n",
    "\n",
    "# Altair testing\n",
    "text_url = 'text_df.csv'\n",
    "\n",
    "# cols = ['type','date','from','from_id','media_type','action',\n",
    "#         'datetime', 'datetime_vn_lc','hour','text2','word_count','weekday_id',\n",
    "#         'weekday','isLDR','daypart','datetime_eu','datetime_eu_lc','hour_eu',\n",
    "#         'daypart_eu','isNight','datetime_next','buffer',\n",
    "#         'sticker_local_path','sticker_url','sticker_html','date_int','month_int','year_int']"
   ]
  }
 ]
}