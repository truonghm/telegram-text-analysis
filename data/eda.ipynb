{
 "cells": [
  {
   "cell_type": "code",
   "execution_count": 1,
   "metadata": {
    "ExecuteTime": {
     "end_time": "2020-10-30T15:29:54.870964Z",
     "start_time": "2020-10-30T15:29:54.270293Z"
    }
   },
   "outputs": [],
   "source": [
    "%reset -f\n",
    "import json\n",
    "import pandas as pd\n",
    "import numpy as np\n",
    "import datetime as dt\n",
    "import os"
   ]
  },
  {
   "cell_type": "code",
   "execution_count": 2,
   "metadata": {},
   "outputs": [
    {
     "output_type": "execute_result",
     "data": {
      "text/plain": [
       "<bound method DataFrame.info of               date from media_type             datetime  \\\n",
       "0       2018-07-09  🐥💛🌻        NaN  2018-07-09 23:11:44   \n",
       "1       2018-07-09  🐑💛🌙        NaN  2018-07-09 23:37:10   \n",
       "2       2018-07-09  🐑💛🌙        NaN  2018-07-09 23:37:35   \n",
       "3       2018-07-09  🐥💛🌻        NaN  2018-07-09 23:37:47   \n",
       "4       2018-07-09  🐑💛🌙        NaN  2018-07-09 23:38:26   \n",
       "...            ...  ...        ...                  ...   \n",
       "241613  2020-10-16  🐥💛🌻    sticker  2020-10-16 17:28:28   \n",
       "241614  2020-10-16  🐑💛🌙        NaN  2020-10-16 17:28:32   \n",
       "241615  2020-10-16  🐑💛🌙        NaN  2020-10-16 17:28:37   \n",
       "241616  2020-10-16  🐑💛🌙        NaN  2020-10-16 17:29:18   \n",
       "241617  2020-10-16  🐑💛🌙        NaN  2020-10-16 17:29:26   \n",
       "\n",
       "                                                  text2  word_count  isLDR  \\\n",
       "0                                               Chào ấy         2.0      0   \n",
       "1                                               Chào ấy         2.0      0   \n",
       "2                  Thấy bảo bên này bảo mật tốt hơn đó          9.0      0   \n",
       "3                                          Ừ cũng được          3.0      0   \n",
       "4       À mà thực ra tối nay em đang chơi với lũ em họ         13.0      0   \n",
       "...                                                 ...         ...    ...   \n",
       "241613                                              NaN         0.0      1   \n",
       "241614                     Em đang đợi bus để đến store         7.0      1   \n",
       "241615                                    K đi bộ tiếp          4.0      1   \n",
       "241616       Bạn em nhờ mua cable mà em mua nhầm xừ rồi        11.0      1   \n",
       "241617                              Phải đổi lại đã hic         5.0      1   \n",
       "\n",
       "       daypart        datetime_next    buffer  \\\n",
       "0        22-24  2018-07-09 23:37:10  0.017662   \n",
       "1        22-24  2018-07-09 23:37:35  0.000289   \n",
       "2        22-24  2018-07-09 23:37:47  0.000139   \n",
       "3        22-24  2018-07-09 23:38:26  0.000451   \n",
       "4        22-24  2018-07-09 23:38:41  0.000174   \n",
       "...        ...                  ...       ...   \n",
       "241613   14-17  2020-10-16 17:28:32  0.000046   \n",
       "241614   14-17  2020-10-16 17:28:37  0.000058   \n",
       "241615   14-17  2020-10-16 17:29:18  0.000475   \n",
       "241616   14-17  2020-10-16 17:29:26  0.000093   \n",
       "241617   14-17  2020-10-16 17:29:26  0.000000   \n",
       "\n",
       "                                              sticker_url  \n",
       "0                                                     NaN  \n",
       "1                                                     NaN  \n",
       "2                                                     NaN  \n",
       "3                                                     NaN  \n",
       "4                                                     NaN  \n",
       "...                                                   ...  \n",
       "241613  https://raw.githubusercontent.com/truonghm/tel...  \n",
       "241614                                                NaN  \n",
       "241615                                                NaN  \n",
       "241616                                                NaN  \n",
       "241617                                                NaN  \n",
       "\n",
       "[241618 rows x 11 columns]>"
      ]
     },
     "metadata": {},
     "execution_count": 2
    }
   ],
   "source": [
    "text_df = pd.read_csv('text_df.csv')\n",
    "text_df.info"
   ]
  }
 ],
 "metadata": {
  "kernelspec": {
   "display_name": "Python 3",
   "language": "python",
   "name": "python3"
  },
  "language_info": {
   "codemirror_mode": {
    "name": "ipython",
    "version": 3
   },
   "file_extension": ".py",
   "mimetype": "text/x-python",
   "name": "python",
   "nbconvert_exporter": "python",
   "pygments_lexer": "ipython3",
   "version": "3.8.5-final"
  },
  "varInspector": {
   "cols": {
    "lenName": 16,
    "lenType": 16,
    "lenVar": 40
   },
   "kernels_config": {
    "python": {
     "delete_cmd_postfix": "",
     "delete_cmd_prefix": "del ",
     "library": "var_list.py",
     "varRefreshCmd": "print(var_dic_list())"
    },
    "r": {
     "delete_cmd_postfix": ") ",
     "delete_cmd_prefix": "rm(",
     "library": "var_list.r",
     "varRefreshCmd": "cat(var_dic_list()) "
    }
   },
   "types_to_exclude": [
    "module",
    "function",
    "builtin_function_or_method",
    "instance",
    "_Feature"
   ],
   "window_display": false
  }
 },
 "nbformat": 4,
 "nbformat_minor": 2
}