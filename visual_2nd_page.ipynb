{
 "cells": [
  {
   "cell_type": "code",
   "execution_count": null,
   "metadata": {
    "ExecuteTime": {
     "end_time": "2020-10-30T16:07:25.318001Z",
     "start_time": "2020-10-30T16:07:24.544197Z"
    }
   },
   "outputs": [],
   "source": [
    "%reset -f\n",
    "import altair as alt\n",
    "\n",
    "# Altair testing\n",
    "text_url = 'text_df.csv'"
   ]
  },
  {
   "cell_type": "markdown",
   "metadata": {},
   "source": [
    "cols = ['type','date','from','from_id','media_type','action',\n",
    "        'datetime', 'datetime_vn_lc','hour','text2','word_count','weekday_id',\n",
    "        'weekday','isLDR','daypart','datetime_eu','datetime_eu_lc','hour_eu',\n",
    "        'daypart_eu','isNight','datetime_next','buffer',\n",
    "        'sticker_local_path','sticker_url','sticker_html','date_int','month_int','year_int']"
   ]
  },
  {
   "source": [
    "# Second Page: Texting through time"
   ],
   "cell_type": "markdown",
   "metadata": {}
  },
  {
   "cell_type": "code",
   "execution_count": null,
   "metadata": {
    "ExecuteTime": {
     "end_time": "2020-10-30T15:34:20.108580Z",
     "start_time": "2020-10-30T15:34:20.063719Z"
    }
   },
   "outputs": [],
   "source": [
    "# message overtime\n",
    "alt.Chart(text_url).mark_line().encode(\n",
    "    x='date:T',\n",
    "    y='count(text2):Q',\n",
    "    color='from:N',\n",
    "    tooltip=['from:N', 'date:T','count(text2):Q']\n",
    ").properties(\n",
    "    width=550,\n",
    "    height=200\n",
    ").interactive()"
   ]
  },
  {
   "cell_type": "code",
   "execution_count": null,
   "metadata": {
    "ExecuteTime": {
     "end_time": "2020-10-30T15:39:22.344705Z",
     "start_time": "2020-10-30T15:39:22.311340Z"
    }
   },
   "outputs": [],
   "source": [
    "alt.Chart(text_url).mark_bar().encode(\n",
    "    x='month(datetime):N',\n",
    "    y=alt.Y('count():Q', stack='normalize'),\n",
    "    color='daypart:N',\n",
    ").facet(column='year(datetime):N')"
   ]
  }
 ],
 "metadata": {
  "kernelspec": {
   "name": "Python 3.8.5 64-bit ('text-analysis': conda)",
   "display_name": "Python 3.8.5 64-bit ('text-analysis': conda)",
   "metadata": {
    "interpreter": {
     "hash": "a0966dfbb8a7a5b39309b4ec8b2a003eb9bec16234a4828594124cf4c5348425"
    }
   }
  },
  "language_info": {
   "codemirror_mode": {
    "name": "ipython",
    "version": 3
   },
   "file_extension": ".py",
   "mimetype": "text/x-python",
   "name": "python",
   "nbconvert_exporter": "python",
   "pygments_lexer": "ipython3",
   "version": "3.8.5-final"
  },
  "varInspector": {
   "cols": {
    "lenName": 16,
    "lenType": 16,
    "lenVar": 40
   },
   "kernels_config": {
    "python": {
     "delete_cmd_postfix": "",
     "delete_cmd_prefix": "del ",
     "library": "var_list.py",
     "varRefreshCmd": "print(var_dic_list())"
    },
    "r": {
     "delete_cmd_postfix": ") ",
     "delete_cmd_prefix": "rm(",
     "library": "var_list.r",
     "varRefreshCmd": "cat(var_dic_list()) "
    }
   },
   "types_to_exclude": [
    "module",
    "function",
    "builtin_function_or_method",
    "instance",
    "_Feature"
   ],
   "window_display": false
  }
 },
 "nbformat": 4,
 "nbformat_minor": 2
}