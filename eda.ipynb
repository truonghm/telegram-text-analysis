{
 "cells": [
  {
   "cell_type": "code",
   "execution_count": 1,
   "metadata": {
    "ExecuteTime": {
     "end_time": "2020-10-30T08:46:34.416347Z",
     "start_time": "2020-10-30T08:46:34.022045Z"
    }
   },
   "outputs": [],
   "source": [
    "%reset -f\n",
    "import json\n",
    "import pandas as pd\n",
    "import numpy as np\n",
    "import datetime as dt"
   ]
  },
  {
   "cell_type": "code",
   "execution_count": 2,
   "metadata": {
    "ExecuteTime": {
     "end_time": "2020-10-30T08:46:40.690848Z",
     "start_time": "2020-10-30T08:46:34.419673Z"
    }
   },
   "outputs": [],
   "source": [
    "ldr_date = dt.date(2018, 9, 16)\n",
    "\n",
    "text_file = 'ChatExport/result.json'\n",
    "with open(text_file, encoding=\"utf8\") as f:\n",
    "    d = json.load(f)\n",
    "cols = ['type','date','from','from_id','text','sticker_emoji','file','media_type','photo','action']\n",
    "text_df = pd.json_normalize(d['messages'])[cols]"
   ]
  },
  {
   "cell_type": "markdown",
   "metadata": {},
   "source": [
    "### Clean data and create new columns"
   ]
  },
  {
   "cell_type": "code",
   "execution_count": 3,
   "metadata": {
    "ExecuteTime": {
     "end_time": "2020-10-30T08:46:47.643208Z",
     "start_time": "2020-10-30T08:46:40.693842Z"
    }
   },
   "outputs": [],
   "source": [
    "text_df = text_df[text_df['action']!='phone_call']\n",
    "text_df['from_id'] = text_df['from_id'].astype('str')\n",
    "text_df['datetime'] = pd.to_datetime(text_df['date'])\n",
    "text_df['datetime_vn_lc'] = text_df['datetime'].dt.tz_localize(tz='Asia/Ho_Chi_Minh')\n",
    "text_df['date'] = text_df['datetime'].dt.date\n",
    "\n",
    "text_df['hour'] = text_df['datetime'].dt.hour\n",
    "\n",
    "text_df['from'] = np.where(text_df['from']=='Trường Hoàng',\n",
    "                           u'\\U0001F425'+u'\\U0001F49B'+u'\\U0001F33B', text_df['from'])\n",
    "\n",
    "text_df['text2'] = text_df['text'].replace('[\\'!#$%&()*+,-./:;<=>?@^_`{|}~]', '', regex=True)\n",
    "text_df['text2'] = text_df['text2'].replace('\\\\s+', ' ', regex=True)\n",
    "\n",
    "text_df['word_count'] = text_df['text2'].str.split().str.len()\n",
    "\n",
    "dayOfWeek={0:'Monday', 1:'Tuesday', 2:'Wednesday', 3:'Thursday', 4:'Friday', 5:'Saturday', 6:'Sunday'}\n",
    "text_df['weekday_id'] = text_df['datetime'].dt.dayofweek\n",
    "text_df['weekday'] = text_df['weekday_id'].map(dayOfWeek)\n",
    "\n",
    "text_df['isLDR'] = np.where(text_df['date'] <= ldr_date,\n",
    "                            0, 1)\n",
    "\n",
    "day_intervals = [text_df['hour'].between(6, 9),\n",
    "                 text_df['hour'].between(10, 13),\n",
    "                 text_df['hour'].between(14, 17),\n",
    "                 text_df['hour'].between(18, 21),\n",
    "                 text_df['hour'].between(22, 23),\n",
    "                 text_df['hour'].between(0, 5)]\n",
    "day_parts = ['6-9','10-13','14-17','18-21','22-24','24-5']\n",
    "\n",
    "text_df['daypart'] = np.select(day_intervals, day_parts, 0)\n",
    "\n",
    "text_df['datetime_eu'] = text_df['datetime_vn_lc'].dt.tz_convert('Europe/Berlin').dt.tz_localize(None)\n",
    "text_df['datetime_eu_lc'] = text_df['datetime_vn_lc'].dt.tz_convert('Europe/Berlin')\n",
    "\n",
    "text_df['hour_eu'] = text_df['datetime_eu'].dt.hour\n",
    "day_intervals_eu = [text_df['hour_eu'].between(6, 9),\n",
    "                 text_df['hour_eu'].between(10, 13),\n",
    "                 text_df['hour_eu'].between(14, 17),\n",
    "                 text_df['hour_eu'].between(18, 21),\n",
    "                 text_df['hour_eu'].between(22, 23),\n",
    "                 text_df['hour_eu'].between(0, 5)]\n",
    "text_df['daypart_eu'] = np.select(day_intervals_eu, day_parts,0)\n",
    "\n",
    "text_df['isNight'] = np.where((text_df['daypart']=='night') & (text_df['daypart_eu']=='night'),\n",
    "                              1, 0)\n",
    "\n",
    "text_df['datetime_next'] = np.where(text_df['datetime']==max(text_df['datetime']),\n",
    "                                    text_df['datetime'],\n",
    "                                    text_df['datetime'].shift(-1))\n",
    "\n",
    "text_df['buffer'] = (text_df['datetime_next'] - text_df['datetime']).dt.seconds/(60*60*24)\n",
    "\n",
    "text_df['sticker_local_path'] = np.where(text_df['media_type']=='sticker', \n",
    "                                   'ChatExport/' + text_df['file'],\n",
    "                                   np.nan)\n",
    "\n",
    "sticker_path = 'https://raw.githubusercontent.com/truonghm/telegram-text-analysis/master/'\n",
    "text_df['sticker_url'] = np.where(text_df['media_type']=='sticker', \n",
    "                                   sticker_path + 'ChatExport/' + text_df['file'],\n",
    "                                   np.nan)\n",
    "text_df['sticker_html'] = np.where(text_df['media_type']=='sticker', \n",
    "                                   '<img src=\"'+ text_df['sticker_url'] + '\" width=\"30\" height=\"30\"/>',\n",
    "                                   np.nan)\n",
    "\n",
    "text_df['date_int'] = pd.to_numeric(text_df['datetime'].dt.strftime('%Y%m%d'), errors='coerce')\n",
    "text_df['month_int'] = pd.to_numeric(text_df['datetime'].dt.strftime('%Y%m'), errors='coerce')\n",
    "text_df['year_int'] = text_df['datetime'].dt.year"
   ]
  },
  {
   "cell_type": "code",
   "execution_count": 4,
   "metadata": {
    "ExecuteTime": {
     "end_time": "2020-10-30T08:46:56.658115Z",
     "start_time": "2020-10-30T08:46:47.643208Z"
    }
   },
   "outputs": [],
   "source": [
    "cols = ['type','date','from','from_id','media_type','action',\n",
    "        'datetime', 'datetime_vn_lc','hour','text2','word_count','weekday_id',\n",
    "        'weekday','isLDR','daypart','datetime_eu','datetime_eu_lc','hour_eu',\n",
    "        'daypart_eu','isNight','datetime_next','buffer',\n",
    "        'sticker_local_path','sticker_url','sticker_html','date_int','month_int','year_int']\n",
    "text_df[cols].to_csv('text_df.csv', index=False)"
   ]
  },
  {
   "cell_type": "markdown",
   "metadata": {},
   "source": [
    "# Visualizations"
   ]
  },
  {
   "cell_type": "code",
   "execution_count": null,
   "metadata": {
    "ExecuteTime": {
     "end_time": "2020-10-27T16:04:26.262505Z",
     "start_time": "2020-10-27T16:04:26.235608Z"
    }
   },
   "outputs": [],
   "source": [
    "import plotly.graph_objects as go\n",
    "import plotly.express as px\n",
    "import plotly.io as pio\n",
    "from IPython.display import Image, HTML\n",
    "\n",
    "pio.templates.default = \"plotly_white\""
   ]
  },
  {
   "cell_type": "markdown",
   "metadata": {},
   "source": [
    "### Resources\n",
    "\n",
    "- https://plotly.com/python/templates/\n",
    "- https://plotly.com/python/bar-charts/\n",
    "- https://plotly.com/python/discrete-color/\n",
    "- https://plotly.com/python/horizontal-bar-charts/\n",
    "- https://awesome-streamlit.org/"
   ]
  },
  {
   "cell_type": "markdown",
   "metadata": {},
   "source": [
    "## 1. 10 most used stickers"
   ]
  },
  {
   "cell_type": "code",
   "execution_count": null,
   "metadata": {
    "ExecuteTime": {
     "end_time": "2020-10-27T16:04:33.169882Z",
     "start_time": "2020-10-27T16:04:33.087528Z"
    },
    "scrolled": false
   },
   "outputs": [],
   "source": [
    "stickers_df = text_df[text_df['media_type']=='sticker'].groupby(['sticker_url','from']).agg({'from_id':'count'}).reset_index()\n",
    "stickers_df = stickers_df.pivot(index='sticker_url',columns='from',values='from_id').reset_index()\n",
    "stickers_df['total'] = stickers_df['🐑💛🌙'] + stickers_df['🐥💛🌻']\n",
    "stickers_df = stickers_df.sort_values(['total'], ascending=False).head(10)\n",
    "stickers_df['🐑💛🌙'] = stickers_df['🐑💛🌙'].astype(int)\n",
    "stickers_df['🐥💛🌻'] = stickers_df['🐥💛🌻'].astype(int)\n",
    "stickers_df['total'] = stickers_df['total'].astype(int)\n",
    "\n",
    "stickers_df['sticker_html'] = '<img src=\"'+ stickers_df['sticker_url'] + '\" width=\"30\" height=\"30\"/>'\n",
    "\n",
    "pd.set_option('display.max_colwidth', None)\n",
    "\n",
    "HTML(stickers_df[['sticker_html','🐑💛🌙','🐥💛🌻','total']].to_html(escape=False))\n",
    "# st.write(stickers_df[['sticker_html','🐑💛🌙','🐥💛🌻','total']].to_html(escape=False), unsafe_allow_html=True)"
   ]
  },
  {
   "cell_type": "markdown",
   "metadata": {},
   "source": [
    "## 2. Oveview"
   ]
  },
  {
   "cell_type": "code",
   "execution_count": null,
   "metadata": {
    "ExecuteTime": {
     "end_time": "2020-10-27T15:48:11.013379Z",
     "start_time": "2020-10-27T15:48:10.953035Z"
    }
   },
   "outputs": [],
   "source": [
    "overview_df = text_df.groupby('from').agg({'text2':'count','word_count':'mean','hour':'median'}).reset_index()\n",
    "overview_df.rename(columns={'text2':'Message_count',\n",
    "                            'word_count':'Average_message_length',\n",
    "                            'hour':'Median_hour'},\n",
    "                   inplace=True)\n",
    "overview_df.style.format({'Message_count': '{:.0f}', 'Average_message_length': '{:.2f}', 'hour': '{:.0f}'})\n",
    "# overview_df.style.set_precision(2)"
   ]
  },
  {
   "cell_type": "code",
   "execution_count": null,
   "metadata": {
    "ExecuteTime": {
     "end_time": "2020-10-27T16:18:41.977485Z",
     "start_time": "2020-10-27T16:18:41.972498Z"
    }
   },
   "outputs": [],
   "source": [
    "print(px.colors.qualitative.Pastel)"
   ]
  },
  {
   "cell_type": "code",
   "execution_count": null,
   "metadata": {
    "ExecuteTime": {
     "end_time": "2020-10-27T16:22:44.646520Z",
     "start_time": "2020-10-27T16:22:44.596646Z"
    }
   },
   "outputs": [],
   "source": [
    "fig = px.bar(overview_df, x='Message_count', y='from',\n",
    "             color='from', orientation='h',\n",
    "             color_discrete_map={\n",
    "                \"🐑💛🌙\": 'rgb(246, 207, 113)',\n",
    "                \"🐥💛🌻\": \"rgb(102, 197, 204)\"},\n",
    "             text='Message_count',\n",
    "             color_discrete_sequence=px.colors.qualitative.Pastel)\n",
    "fig.show()"
   ]
  }
 ],
 "metadata": {
  "kernelspec": {
   "display_name": "Python 3",
   "language": "python",
   "name": "python3"
  },
  "language_info": {
   "codemirror_mode": {
    "name": "ipython",
    "version": 3
   },
   "file_extension": ".py",
   "mimetype": "text/x-python",
   "name": "python",
   "nbconvert_exporter": "python",
   "pygments_lexer": "ipython3",
   "version": "3.8.3"
  },
  "varInspector": {
   "cols": {
    "lenName": 16,
    "lenType": 16,
    "lenVar": 40
   },
   "kernels_config": {
    "python": {
     "delete_cmd_postfix": "",
     "delete_cmd_prefix": "del ",
     "library": "var_list.py",
     "varRefreshCmd": "print(var_dic_list())"
    },
    "r": {
     "delete_cmd_postfix": ") ",
     "delete_cmd_prefix": "rm(",
     "library": "var_list.r",
     "varRefreshCmd": "cat(var_dic_list()) "
    }
   },
   "types_to_exclude": [
    "module",
    "function",
    "builtin_function_or_method",
    "instance",
    "_Feature"
   ],
   "window_display": false
  }
 },
 "nbformat": 4,
 "nbformat_minor": 2
}
