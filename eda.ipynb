{
 "cells": [
  {
   "cell_type": "code",
   "execution_count": 1,
   "metadata": {
    "ExecuteTime": {
     "end_time": "2020-10-25T13:30:52.753679Z",
     "start_time": "2020-10-25T13:30:52.476427Z"
    }
   },
   "outputs": [],
   "source": [
    "import json\n",
    "import pandas as pd\n",
    "# import numpy as np\n",
    "import datetime as dt"
   ]
  },
  {
   "cell_type": "code",
   "execution_count": 2,
   "metadata": {
    "ExecuteTime": {
     "end_time": "2020-10-25T13:30:53.558841Z",
     "start_time": "2020-10-25T13:30:53.553870Z"
    }
   },
   "outputs": [],
   "source": [
    "ldr_date = dt.date(2018, 9, 16)"
   ]
  },
  {
   "cell_type": "code",
   "execution_count": 10,
   "metadata": {
    "ExecuteTime": {
     "end_time": "2020-10-25T13:32:27.653008Z",
     "start_time": "2020-10-25T13:32:22.365853Z"
    }
   },
   "outputs": [],
   "source": [
    "text_file = 'ChatExport/result.json'\n",
    "with open(text_file, encoding=\"utf8\") as f:\n",
    "    d = json.load(f)\n",
    "cols = ['type','date','from','from_id','text','sticker_emoji','file','media_type','photo','action']\n",
    "text_df = pd.json_normalize(d['messages'])[cols]"
   ]
  },
  {
   "cell_type": "markdown",
   "metadata": {},
   "source": [
    "# Clean data and create new columns"
   ]
  },
  {
   "cell_type": "code",
   "execution_count": 11,
   "metadata": {
    "ExecuteTime": {
     "end_time": "2020-10-25T13:32:32.636929Z",
     "start_time": "2020-10-25T13:32:30.275509Z"
    }
   },
   "outputs": [],
   "source": [
    "text_df = text_df[text_df['action']!='phone_call']\n",
    "text_df['from_id'] = text_df['from_id'].astype('str')\n",
    "text_df['datetime'] = pd.to_datetime(text_df['date'])\n",
    "\n",
    "text_df['date'] = text_df['datetime'].dt.date\n",
    "\n",
    "text_df['hour'] = text_df['datetime'].dt.hour\n",
    "\n",
    "text_df['from'] = np.where(text_df['from']=='Trường Hoàng',\n",
    "                           u'\\U0001F425'+u'\\U0001F49B'+u'\\U0001F33B', text_df['from'])\n",
    "\n",
    "text_df['text2'] = text_df['text'].replace('[\\'!#$%&()*+,-./:;<=>?@^_`{|}~]', '', regex=True)\n",
    "text_df['text2'] = text_df['text2'].replace('\\\\s+', ' ', regex=True)\n",
    "\n",
    "text_df['word_count'] = text_df['text2'].str.split().str.len()\n",
    "\n",
    "dayOfWeek={0:'Monday', 1:'Tuesday', 2:'Wednesday', 3:'Thursday', 4:'Friday', 5:'Saturday', 6:'Sunday'}\n",
    "text_df['weekday_id'] = text_df['datetime'].dt.dayofweek\n",
    "text_df['weekday'] = text_df['weekday_id'].map(dayOfWeek)\n",
    "\n",
    "text_df['isLDR'] = np.where(text_df['date'] <= ldr_date,\n",
    "                            0, 1)\n",
    "\n",
    "day_intervals = [text_df['hour'].between(6, 9),\n",
    "                 text_df['hour'].between(10, 13),\n",
    "                 text_df['hour'].between(14, 17),\n",
    "                 text_df['hour'].between(18, 21),\n",
    "                 text_df['hour'].between(22, 24),\n",
    "                 text_df['hour'].between(0, 5)]\n",
    "day_parts = ['morning_1','morning_2','afternoon','evening_1','evening_2','night']\n",
    "\n",
    "text_df['daypart'] = np.select(day_intervals, day_parts, 0)\n",
    "\n",
    "text_df['datetime_eu'] = text_df['datetime'].dt.tz_localize(tz='Asia/Ho_Chi_Minh').dt.tz_convert('Europe/Berlin').dt.tz_localize(None)\n",
    "\n",
    "text_df['hour_eu'] = text_df['datetime_eu'].dt.hour\n",
    "day_intervals_eu = [text_df['hour_eu'].between(6, 9),\n",
    "                 text_df['hour_eu'].between(10, 13),\n",
    "                 text_df['hour_eu'].between(14, 17),\n",
    "                 text_df['hour_eu'].between(18, 21),\n",
    "                 text_df['hour_eu'].between(22, 24),\n",
    "                 text_df['hour_eu'].between(0, 5)]\n",
    "text_df['daypart_eu'] = np.select(day_intervals_eu, day_parts,0)\n",
    "\n",
    "text_df['isNight'] = np.where((text_df['daypart']=='night') & (text_df['daypart_eu']=='night'),\n",
    "                              1, 0)\n",
    "\n",
    "text_df['datetime_next'] = np.where(text_df['datetime']==max(text_df['datetime']),\n",
    "                                    text_df['datetime'],\n",
    "                                    text_df['datetime'].shift(-1))\n",
    "\n",
    "text_df['buffer'] = (text_df['datetime_next'] - text_df['datetime']).dt.seconds/(60*60*24)\n",
    "\n",
    "text_df['sticker_img'] = np.where(text_df['media_type']=='sticker', \n",
    "                                   'ChatExport/' + text_df['file'],\n",
    "                                   np.nan)"
   ]
  },
  {
   "cell_type": "code",
   "execution_count": 12,
   "metadata": {
    "ExecuteTime": {
     "end_time": "2020-10-25T13:32:38.098665Z",
     "start_time": "2020-10-25T13:32:34.813137Z"
    }
   },
   "outputs": [],
   "source": [
    "text_df.to_csv('text_df.csv')"
   ]
  },
  {
   "cell_type": "markdown",
   "metadata": {},
   "source": [
    "# Visualizations"
   ]
  },
  {
   "cell_type": "code",
   "execution_count": 13,
   "metadata": {
    "ExecuteTime": {
     "end_time": "2020-10-25T13:32:40.474603Z",
     "start_time": "2020-10-25T13:32:40.285109Z"
    }
   },
   "outputs": [
    {
     "data": {
      "text/html": [
       "<table border=\"1\" class=\"dataframe\">\n",
       "  <thead>\n",
       "    <tr style=\"text-align: right;\">\n",
       "      <th>from</th>\n",
       "      <th>sticker_img</th>\n",
       "      <th>🐑💛🌙</th>\n",
       "      <th>🐥💛🌻</th>\n",
       "      <th>total</th>\n",
       "    </tr>\n",
       "  </thead>\n",
       "  <tbody>\n",
       "    <tr>\n",
       "      <th>280</th>\n",
       "      <td><img src=\"ChatExport/stickers/sticker (338).webp\" width=\"30\" height=\"30\"/></td>\n",
       "      <td>313.0</td>\n",
       "      <td>529.0</td>\n",
       "      <td>842.0</td>\n",
       "    </tr>\n",
       "    <tr>\n",
       "      <th>182</th>\n",
       "      <td><img src=\"ChatExport/stickers/sticker (25).webp\" width=\"30\" height=\"30\"/></td>\n",
       "      <td>236.0</td>\n",
       "      <td>445.0</td>\n",
       "      <td>681.0</td>\n",
       "    </tr>\n",
       "    <tr>\n",
       "      <th>193</th>\n",
       "      <td><img src=\"ChatExport/stickers/sticker (26).webp\" width=\"30\" height=\"30\"/></td>\n",
       "      <td>219.0</td>\n",
       "      <td>273.0</td>\n",
       "      <td>492.0</td>\n",
       "    </tr>\n",
       "    <tr>\n",
       "      <th>304</th>\n",
       "      <td><img src=\"ChatExport/stickers/sticker (36).webp\" width=\"30\" height=\"30\"/></td>\n",
       "      <td>21.0</td>\n",
       "      <td>447.0</td>\n",
       "      <td>468.0</td>\n",
       "    </tr>\n",
       "    <tr>\n",
       "      <th>293</th>\n",
       "      <td><img src=\"ChatExport/stickers/sticker (35).webp\" width=\"30\" height=\"30\"/></td>\n",
       "      <td>82.0</td>\n",
       "      <td>334.0</td>\n",
       "      <td>416.0</td>\n",
       "    </tr>\n",
       "    <tr>\n",
       "      <th>605</th>\n",
       "      <td><img src=\"ChatExport/stickers/sticker (86).webp\" width=\"30\" height=\"30\"/></td>\n",
       "      <td>185.0</td>\n",
       "      <td>166.0</td>\n",
       "      <td>351.0</td>\n",
       "    </tr>\n",
       "    <tr>\n",
       "      <th>601</th>\n",
       "      <td><img src=\"ChatExport/stickers/sticker (82).webp\" width=\"30\" height=\"30\"/></td>\n",
       "      <td>195.0</td>\n",
       "      <td>152.0</td>\n",
       "      <td>347.0</td>\n",
       "    </tr>\n",
       "    <tr>\n",
       "      <th>292</th>\n",
       "      <td><img src=\"ChatExport/stickers/sticker (349).webp\" width=\"30\" height=\"30\"/></td>\n",
       "      <td>20.0</td>\n",
       "      <td>319.0</td>\n",
       "      <td>339.0</td>\n",
       "    </tr>\n",
       "    <tr>\n",
       "      <th>286</th>\n",
       "      <td><img src=\"ChatExport/stickers/sticker (343).webp\" width=\"30\" height=\"30\"/></td>\n",
       "      <td>96.0</td>\n",
       "      <td>215.0</td>\n",
       "      <td>311.0</td>\n",
       "    </tr>\n",
       "    <tr>\n",
       "      <th>285</th>\n",
       "      <td><img src=\"ChatExport/stickers/sticker (342).webp\" width=\"30\" height=\"30\"/></td>\n",
       "      <td>72.0</td>\n",
       "      <td>221.0</td>\n",
       "      <td>293.0</td>\n",
       "    </tr>\n",
       "  </tbody>\n",
       "</table>"
      ],
      "text/plain": [
       "<IPython.core.display.HTML object>"
      ]
     },
     "execution_count": 13,
     "metadata": {},
     "output_type": "execute_result"
    }
   ],
   "source": [
    "from IPython.display import Image, HTML\n",
    "\n",
    "df = text_df[text_df['media_type']=='sticker'].groupby(['sticker_img','from']).agg({'from_id':'count'}).reset_index()\n",
    "df = df.pivot(index='sticker_img',columns='from',values='from_id').reset_index()\n",
    "df['total'] = df['🐑💛🌙'] + df['🐥💛🌻']\n",
    "df = df.sort_values(['total'], ascending=False).head(10)\n",
    "\n",
    "def path_to_image_html(path):\n",
    "    return '<img src=\"'+ path + '\" width=\"30\" height=\"30\"/>'\n",
    "\n",
    "pd.set_option('display.max_colwidth', None)\n",
    "\n",
    "HTML(df.to_html(escape=False ,formatters=dict(sticker_img=path_to_image_html)))"
   ]
  },
  {
   "cell_type": "code",
   "execution_count": null,
   "metadata": {},
   "outputs": [],
   "source": []
  }
 ],
 "metadata": {
  "kernelspec": {
   "display_name": "Python 3",
   "language": "python",
   "name": "python3"
  },
  "language_info": {
   "codemirror_mode": {
    "name": "ipython",
    "version": 3
   },
   "file_extension": ".py",
   "mimetype": "text/x-python",
   "name": "python",
   "nbconvert_exporter": "python",
   "pygments_lexer": "ipython3",
   "version": "3.8.5"
  },
  "varInspector": {
   "cols": {
    "lenName": 16,
    "lenType": 16,
    "lenVar": 40
   },
   "kernels_config": {
    "python": {
     "delete_cmd_postfix": "",
     "delete_cmd_prefix": "del ",
     "library": "var_list.py",
     "varRefreshCmd": "print(var_dic_list())"
    },
    "r": {
     "delete_cmd_postfix": ") ",
     "delete_cmd_prefix": "rm(",
     "library": "var_list.r",
     "varRefreshCmd": "cat(var_dic_list()) "
    }
   },
   "types_to_exclude": [
    "module",
    "function",
    "builtin_function_or_method",
    "instance",
    "_Feature"
   ],
   "window_display": false
  }
 },
 "nbformat": 4,
 "nbformat_minor": 2
}
